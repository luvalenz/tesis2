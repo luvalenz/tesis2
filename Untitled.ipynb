{
 "cells": [
  {
   "cell_type": "code",
   "execution_count": 1,
   "metadata": {
    "collapsed": false
   },
   "outputs": [
    {
     "name": "stdout",
     "output_type": "stream",
     "text": [
      "medoids:\n",
      "[1 1]\n",
      "[10 10]\n",
      "\n",
      "clustering result:\n",
      "label 0:　[1 1]\n",
      "label 0:　[2 2]\n",
      "label 1:　[10 10]\n"
     ]
    }
   ],
   "source": [
    "from sklearn.metrics.pairwise import pairwise_distances\n",
    "import numpy as np\n",
    "\n",
    "import kmedoids\n",
    "\n",
    "# 3 points in dataset\n",
    "data = np.array([[1,1], \n",
    "                [2,2], \n",
    "                [10,10]])\n",
    "\n",
    "# distance matrix\n",
    "D = pairwise_distances(data, metric='euclidean')\n",
    "\n",
    "# split into 2 clusters\n",
    "M, C = kmedoids.kMedoids(D, 2)\n",
    "\n",
    "print('medoids:')\n",
    "for point_idx in M:\n",
    "    print( data[point_idx] )\n",
    "\n",
    "print('')\n",
    "print('clustering result:')\n",
    "for label in C:\n",
    "    for point_idx in C[label]:\n",
    "        print('label {0}:　{1}'.format(label, data[point_idx]))"
   ]
  },
  {
   "cell_type": "code",
   "execution_count": 3,
   "metadata": {
    "collapsed": false
   },
   "outputs": [
    {
     "data": {
      "text/plain": [
       "{0: array([0, 1]), 1: array([2])}"
      ]
     },
     "execution_count": 3,
     "metadata": {},
     "output_type": "execute_result"
    }
   ],
   "source": [
    "C"
   ]
  },
  {
   "cell_type": "code",
   "execution_count": null,
   "metadata": {
    "collapsed": true
   },
   "outputs": [],
   "source": []
  }
 ],
 "metadata": {
  "kernelspec": {
   "display_name": "Python 3",
   "language": "python",
   "name": "python3"
  },
  "language_info": {
   "codemirror_mode": {
    "name": "ipython",
    "version": 3
   },
   "file_extension": ".py",
   "mimetype": "text/x-python",
   "name": "python",
   "nbconvert_exporter": "python",
   "pygments_lexer": "ipython3",
   "version": "3.5.1"
  }
 },
 "nbformat": 4,
 "nbformat_minor": 0
}
