{
 "cells": [
  {
   "cell_type": "code",
   "execution_count": 1,
   "metadata": {
    "collapsed": true
   },
   "outputs": [],
   "source": [
    "import os\n",
    "import  numpy as np\n",
    "from sklearn.cluster import AffinityPropagation"
   ]
  },
  {
   "cell_type": "code",
   "execution_count": 2,
   "metadata": {
    "collapsed": true
   },
   "outputs": [],
   "source": [
    "def run_affinity_propagation(affinities):\n",
    "    smin = np.min(affinities)\n",
    "    smax = np.max(affinities)\n",
    "    candidate_preferences = np.linspace(smin, smax, 10)\n",
    "    ap = AffinityPropagation(affinity='precomputed')\n",
    "    for preference in candidate_preferences:\n",
    "        ap.preference = preference\n",
    "        ap.fit(affinities)\n",
    "        indices = ap.cluster_centers_indices_\n",
    "        print(len(indices))\n",
    "        #if indices is not None and len(indices) > 1:\n",
    "        #    break\n",
    "    return ap"
   ]
  },
  {
   "cell_type": "code",
   "execution_count": 3,
   "metadata": {
    "collapsed": false
   },
   "outputs": [],
   "source": [
    "root_path = '/home/lucas/tesis2'\n",
    "#root_path = '/tmp/luvalenz'\n",
    "mac_data_path = os.path.join(root_path, 'mackenzie_data/')\n",
    "lucas_data_path = os.path.join(root_path, 'lucas_data/')\n",
    "db_path = os.path.join(root_path, 'macho_training_lightcurves')\n",
    "output_path = os.path.join(root_path, 'output')\n",
    "n = 1000\n",
    "affinities_path = os.path.join(lucas_data_path, 'subsequences_distances_n={0}.npz'.format(n))\n",
    "sample_path = os.path.join(lucas_data_path, 'subsequences_sample_n={0}.pickle'.format(n))"
   ]
  },
  {
   "cell_type": "code",
   "execution_count": 6,
   "metadata": {
    "collapsed": false
   },
   "outputs": [],
   "source": [
    "npzfile = np.load(affinities_path)\n",
    "distances = npzfile[npzfile.files[0]]\n",
    "affinities = -distances"
   ]
  },
  {
   "cell_type": "code",
   "execution_count": 7,
   "metadata": {
    "collapsed": false
   },
   "outputs": [
    {
     "name": "stdout",
     "output_type": "stream",
     "text": [
      "8\n",
      "8\n",
      "9\n",
      "10\n",
      "11\n",
      "14\n",
      "13\n",
      "18\n",
      "33\n",
      "998\n"
     ]
    },
    {
     "data": {
      "text/plain": [
       "AffinityPropagation(affinity='precomputed', convergence_iter=15, copy=True,\n",
       "          damping=0.5, max_iter=200, preference=-0.0, verbose=False)"
      ]
     },
     "execution_count": 7,
     "metadata": {},
     "output_type": "execute_result"
    }
   ],
   "source": [
    "run_affinity_propagation(affinities)"
   ]
  },
  {
   "cell_type": "code",
   "execution_count": null,
   "metadata": {
    "collapsed": true
   },
   "outputs": [],
   "source": []
  }
 ],
 "metadata": {
  "kernelspec": {
   "display_name": "Python 3",
   "language": "python",
   "name": "python3"
  },
  "language_info": {
   "codemirror_mode": {
    "name": "ipython",
    "version": 3
   },
   "file_extension": ".py",
   "mimetype": "text/x-python",
   "name": "python",
   "nbconvert_exporter": "python",
   "pygments_lexer": "ipython3",
   "version": "3.5.1"
  }
 },
 "nbformat": 4,
 "nbformat_minor": 0
}
