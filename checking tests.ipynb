{
 "cells": [
  {
   "cell_type": "code",
   "execution_count": 1,
   "metadata": {
    "collapsed": true
   },
   "outputs": [],
   "source": [
    "import dill\n",
    "import numpy as np"
   ]
  },
  {
   "cell_type": "code",
   "execution_count": 2,
   "metadata": {
    "collapsed": false
   },
   "outputs": [],
   "source": [
    "with open('/home/lucas/tesis2/test_ouputs/sequence_tree_1000samples_20levels_10samples_per_class_5results_per_query.dill', 'rb') as f:\n",
    "    test_results = dill.load(f)"
   ]
  },
  {
   "cell_type": "code",
   "execution_count": 3,
   "metadata": {
    "collapsed": false
   },
   "outputs": [],
   "source": [
    "times = test_results['times']\n",
    "times_means = {key: np.mean(value) for key, value in times.items()}\n",
    "times_stds = {key: np.std(value) for key, value in times.items()}"
   ]
  },
  {
   "cell_type": "code",
   "execution_count": 4,
   "metadata": {
    "collapsed": false
   },
   "outputs": [],
   "source": [
    "results = test_results['results']"
   ]
  },
  {
   "cell_type": "code",
   "execution_count": 5,
   "metadata": {
    "collapsed": false
   },
   "outputs": [],
   "source": [
    "result_means = {}\n",
    "result_stds = {}\n",
    "for key, value in results.items():\n",
    "    values = list(value.values())\n",
    "    stack = np.vstack(values)\n",
    "    means = np.mean(stack, axis=0)\n",
    "    stds = np.std(stack, axis=0)\n",
    "    result_means[key] = means\n",
    "    result_stds[key] = stds"
   ]
  },
  {
   "cell_type": "code",
   "execution_count": 6,
   "metadata": {
    "collapsed": false
   },
   "outputs": [
    {
     "data": {
      "text/plain": [
       "{'BE': array([ 1.        ,  0.8065736 ,  0.7581033 ,  0.71470903,  0.68653811]),\n",
       " 'CEPH': array([ 1.,  1.,  1.,  1.,  1.]),\n",
       " 'EB': array([ 1.        ,  0.8065736 ,  0.73463936,  0.66156452,  0.64036643]),\n",
       " 'LPV': array([ 1.        ,  1.        ,  1.        ,  1.        ,  0.97375898]),\n",
       " 'ML': array([ 1.        ,  0.84525888,  0.74078362,  0.71711401,  0.68862755]),\n",
       " 'NV': array([ 1.        ,  0.96131472,  0.97039181,  0.95855701,  0.95087403]),\n",
       " 'QSO': array([ 1.        ,  0.84525888,  0.69385575,  0.62763775,  0.57152951]),\n",
       " 'RRL': array([ 1.        ,  0.92262944,  0.87039181,  0.85855701,  0.86399454])}"
      ]
     },
     "execution_count": 6,
     "metadata": {},
     "output_type": "execute_result"
    }
   ],
   "source": [
    "result_means"
   ]
  },
  {
   "cell_type": "code",
   "execution_count": 7,
   "metadata": {
    "collapsed": false
   },
   "outputs": [
    {
     "data": {
      "text/plain": [
       "{'BE': array([ 0.        ,  0.1934264 ,  0.22141357,  0.2449047 ,  0.26114718]),\n",
       " 'CEPH': array([ 0.,  0.,  0.,  0.,  0.]),\n",
       " 'EB': array([ 0.        ,  0.1934264 ,  0.26536064,  0.27736806,  0.30542676]),\n",
       " 'LPV': array([ 0.        ,  0.        ,  0.        ,  0.        ,  0.05248203]),\n",
       " 'ML': array([ 0.        ,  0.1895184 ,  0.23766367,  0.26070654,  0.27194537]),\n",
       " 'NV': array([ 0.        ,  0.11605584,  0.08882457,  0.08470922,  0.09926584]),\n",
       " 'QSO': array([ 0.        ,  0.1895184 ,  0.16452806,  0.19295657,  0.16017058]),\n",
       " 'RRL': array([ 0.        ,  0.15474112,  0.21222699,  0.20805212,  0.21188462])}"
      ]
     },
     "execution_count": 7,
     "metadata": {},
     "output_type": "execute_result"
    }
   ],
   "source": [
    "result_stds"
   ]
  },
  {
   "cell_type": "code",
   "execution_count": null,
   "metadata": {
    "collapsed": true
   },
   "outputs": [],
   "source": []
  }
 ],
 "metadata": {
  "kernelspec": {
   "display_name": "Python 3",
   "language": "python",
   "name": "python3"
  },
  "language_info": {
   "codemirror_mode": {
    "name": "ipython",
    "version": 3
   },
   "file_extension": ".py",
   "mimetype": "text/x-python",
   "name": "python",
   "nbconvert_exporter": "python",
   "pygments_lexer": "ipython3",
   "version": "3.5.1"
  }
 },
 "nbformat": 4,
 "nbformat_minor": 0
}
