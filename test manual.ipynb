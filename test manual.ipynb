{
 "cells": [
  {
   "cell_type": "code",
   "execution_count": 2,
   "metadata": {
    "collapsed": false
   },
   "outputs": [
    {
     "name": "stderr",
     "output_type": "stream",
     "text": [
      "/home/lucas/anaconda3/lib/python3.5/site-packages/pandas/computation/__init__.py:19: UserWarning: The installed version of numexpr 2.4.4 is not supported in pandas and will be not be used\n",
      "\n",
      "  UserWarning)\n"
     ]
    }
   ],
   "source": [
    "import dill\n",
    "import pandas as pd\n",
    "from time_series import TimeSeriesOriginal\n",
    "import os\n",
    "import matplotlib.pyplot as plt\n",
    "\n",
    "def get_macho_class_from_path(path):\n",
    "    classes = ['BE', 'ML', 'NV', 'QSO', 'CEPH', 'EB', 'LPV', 'RRL']\n",
    "    for c in classes:\n",
    "        if c in path:\n",
    "            return c\n",
    "    return None\n",
    "\n",
    "def real_path(root, path):\n",
    "    start = path.find('macho_training_lightcurves')\n",
    "    if start != -1:\n",
    "        path = path[start:]\n",
    "        path = path[path.find('/') + 1:]\n",
    "    full_path = os.path.join(root, path)\n",
    "    return full_path\n",
    "\n",
    "def get_macho_lightcurve(path):\n",
    "    df = pd.read_csv(path, header=2, delimiter=' ')\n",
    "    time = df['#MJD'].values\n",
    "    magnitude = df['Mag'].values\n",
    "    return TimeSeriesOriginal(time, magnitude, path)\n",
    "\n",
    "\n",
    "def plot_lc(lc, color):\n",
    "    time = lc.time\n",
    "    mag = lc.magnitude\n",
    "    plt.clf()\n",
    "    plt.plot(time, mag, '.', color=color)\n",
    "    plt.show()\n"
   ]
  },
  {
   "cell_type": "code",
   "execution_count": 3,
   "metadata": {
    "collapsed": false
   },
   "outputs": [],
   "source": [
    "dataset_root = '/home/lucas/tesis2/macho_training_lightcurves/'\n",
    "#LOAD SUBSEQUENCE TREE\n",
    "st_path = '/home/lucas/tesis2/output/sequence_tree_20000samples_20levels_noNV.dill'\n",
    "with open(st_path, 'rb') as f:\n",
    "    st = dill.load(f)\n",
    "#LOAD A MACHO LIGHTCURVE\n",
    "macho_lc_path = '/home/lucas/tesis2/macho_training_lightcurves/ML/lc_1.3324.122.B.mjd'\n",
    "macho_lc = get_macho_lightcurve(macho_lc_path)\n",
    "\n"
   ]
  },
  {
   "cell_type": "code",
   "execution_count": 4,
   "metadata": {
    "collapsed": true
   },
   "outputs": [],
   "source": [
    "query_result = st.make_query(macho_lc)"
   ]
  },
  {
   "cell_type": "code",
   "execution_count": 5,
   "metadata": {
    "collapsed": false
   },
   "outputs": [
    {
     "name": "stderr",
     "output_type": "stream",
     "text": [
      "/home/lucas/anaconda3/lib/python3.5/site-packages/ipykernel/__main__.py:1: FutureWarning: sort(columns=....) is deprecated, use sort_values(by=.....)\n",
      "  if __name__ == '__main__':\n"
     ]
    }
   ],
   "source": [
    "sorted_query_result = query_result.sort([0])\n"
   ]
  },
  {
   "cell_type": "code",
   "execution_count": 6,
   "metadata": {
    "collapsed": true
   },
   "outputs": [],
   "source": [
    "plot_lc(macho_lc, 'blue')"
   ]
  },
  {
   "cell_type": "code",
   "execution_count": 7,
   "metadata": {
    "collapsed": true
   },
   "outputs": [],
   "source": [
    "result_paths = sorted_query_result.index"
   ]
  },
  {
   "cell_type": "code",
   "execution_count": 8,
   "metadata": {
    "collapsed": false
   },
   "outputs": [
    {
     "name": "stdout",
     "output_type": "stream",
     "text": [
      "/home/lucas/tesis2/macho_training_lightcurves/ML/lc_121.22425.177.B.mjd\n",
      "/home/lucas/tesis2/macho_training_lightcurves/ML/lc_101.21564.4657.B.mjd\n",
      "/home/lucas/tesis2/macho_training_lightcurves/ML/lc_137.29731.2320.R.mjd\n",
      "/home/lucas/tesis2/macho_training_lightcurves/ML/lc_144.32453.1528.B.mjd\n",
      "/home/lucas/tesis2/macho_training_lightcurves/ML/lc_168.25985.4014.B.mjd\n",
      "/home/lucas/tesis2/macho_training_lightcurves/ML/lc_150.28409.2370.R.mjd\n",
      "/home/lucas/tesis2/macho_training_lightcurves/ML/lc_172.31579.2624.B.mjd\n",
      "/home/lucas/tesis2/macho_training_lightcurves/ML/lc_137.29986.2769.B.mjd\n",
      "/home/lucas/tesis2/macho_training_lightcurves/ML/lc_306.36059.752.R.mjd\n",
      "/home/lucas/tesis2/macho_training_lightcurves/ML/lc_142.27776.3952.R.mjd\n",
      "/home/lucas/tesis2/macho_training_lightcurves/ML/lc_145.34015.1280.B.mjd\n",
      "/home/lucas/tesis2/macho_training_lightcurves/ML/lc_102.23503.4283.B.mjd\n",
      "/home/lucas/tesis2/macho_training_lightcurves/ML/lc_102.22598.2894.R.mjd\n",
      "/home/lucas/tesis2/macho_training_lightcurves/ML/lc_137.29731.2320.B.mjd\n",
      "/home/lucas/tesis2/macho_training_lightcurves/ML/lc_102.22851.2409.R.mjd\n",
      "/home/lucas/tesis2/macho_training_lightcurves/ML/lc_104.21162.3642.B.mjd\n",
      "/home/lucas/tesis2/macho_training_lightcurves/ML/lc_166.30682.3768.R.mjd\n",
      "/home/lucas/tesis2/macho_training_lightcurves/ML/lc_124.21503.1711.B.mjd\n",
      "/home/lucas/tesis2/macho_training_lightcurves/ML/lc_122.23205.1241.B.mjd\n",
      "/home/lucas/tesis2/macho_training_lightcurves/ML/lc_115.22181.2973.R.mjd\n",
      "/home/lucas/tesis2/macho_training_lightcurves/ML/lc_115.22695.3361.R.mjd\n",
      "/home/lucas/tesis2/macho_training_lightcurves/ML/lc_115.22698.3919.R.mjd\n",
      "/home/lucas/tesis2/macho_training_lightcurves/ML/lc_149.27237.3033.B.mjd\n",
      "/home/lucas/tesis2/macho_training_lightcurves/ML/lc_161.24696.1161.R.mjd\n",
      "/home/lucas/tesis2/macho_training_lightcurves/ML/lc_161.24956.2466.B.mjd\n",
      "/home/lucas/tesis2/macho_training_lightcurves/ML/lc_161.24696.1161.B.mjd\n",
      "/home/lucas/tesis2/macho_training_lightcurves/ML/lc_111.23873.4918.B.mjd\n",
      "/home/lucas/tesis2/macho_training_lightcurves/ML/lc_128.21147.5157.B.mjd\n"
     ]
    }
   ],
   "source": [
    "for path in result_paths:\n",
    "    lc = get_macho_lightcurve(real_path(dataset_root, path))\n",
    "    id_ = lc._id\n",
    "    print(id_)\n",
    "    #plot_lc(lc, 'black')"
   ]
  },
  {
   "cell_type": "code",
   "execution_count": null,
   "metadata": {
    "collapsed": true
   },
   "outputs": [],
   "source": []
  },
  {
   "cell_type": "code",
   "execution_count": null,
   "metadata": {
    "collapsed": true
   },
   "outputs": [],
   "source": []
  }
 ],
 "metadata": {
  "kernelspec": {
   "display_name": "Python 3",
   "language": "python",
   "name": "python3"
  },
  "language_info": {
   "codemirror_mode": {
    "name": "ipython",
    "version": 3
   },
   "file_extension": ".py",
   "mimetype": "text/x-python",
   "name": "python",
   "nbconvert_exporter": "python",
   "pygments_lexer": "ipython3",
   "version": "3.5.1"
  }
 },
 "nbformat": 4,
 "nbformat_minor": 0
}
