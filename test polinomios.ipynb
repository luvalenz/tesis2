{
 "cells": [
  {
   "cell_type": "code",
   "execution_count": 23,
   "metadata": {
    "collapsed": true
   },
   "outputs": [],
   "source": [
    "import numpy as np\n",
    "import matplotlib.pyplot as plt\n",
    "import itertools"
   ]
  },
  {
   "cell_type": "code",
   "execution_count": 24,
   "metadata": {
    "collapsed": true
   },
   "outputs": [],
   "source": [
    "def standarize(ts):\n",
    "    mean = np.mean(ts)\n",
    "    std = np.std(ts)\n",
    "    return (ts - mean)/std"
   ]
  },
  {
   "cell_type": "code",
   "execution_count": 33,
   "metadata": {
    "collapsed": false
   },
   "outputs": [
    {
     "name": "stderr",
     "output_type": "stream",
     "text": [
      "/home/lucas/anaconda3/lib/python3.5/site-packages/ipykernel/__main__.py:4: RuntimeWarning: invalid value encountered in true_divide\n"
     ]
    }
   ],
   "source": [
    "time = np.arange(-1,1,0.1)\n",
    "nums = np.arange(10)\n",
    "lines = [m*time+n for m, n in itertools.product(nums, repeat=2)]\n",
    "std_lines = [standarize(line) for line in lines]\n",
    "quads = [a*time**2 + b*time + c for a, b, c in itertools.product(nums, repeat=3)]\n",
    "std_quads = [standarize(quad) for quad in quads]\n",
    "cubes = [a*time**3 + b*time**2 + c*time + d for a, b, c, d in itertools.product(nums, repeat=4)]\n",
    "std_cubes = [standarize(cube) for cube in cubes]"
   ]
  },
  {
   "cell_type": "code",
   "execution_count": null,
   "metadata": {
    "collapsed": true
   },
   "outputs": [],
   "source": []
  },
  {
   "cell_type": "code",
   "execution_count": 21,
   "metadata": {
    "collapsed": false
   },
   "outputs": [],
   "source": [
    "plt.plot(time, std_lines[1])\n",
    "plt.show()"
   ]
  },
  {
   "cell_type": "code",
   "execution_count": 22,
   "metadata": {
    "collapsed": false
   },
   "outputs": [
    {
     "name": "stdout",
     "output_type": "stream",
     "text": [
      "nan\n",
      "nan\n",
      "2.77555756156e-16\n",
      "1.0\n",
      "2.77555756156e-16\n",
      "1.0\n",
      "1.11022302463e-17\n",
      "1.0\n",
      "2.77555756156e-16\n",
      "1.0\n",
      "2.33146835171e-16\n",
      "1.0\n",
      "1.11022302463e-17\n",
      "1.0\n",
      "-4.66293670343e-16\n",
      "1.0\n",
      "2.77555756156e-16\n",
      "1.0\n",
      "1.88737914186e-16\n",
      "1.0\n"
     ]
    }
   ],
   "source": [
    "for l in std_lines:\n",
    "    print(np.mean(l))\n",
    "    print(np.std(l))"
   ]
  },
  {
   "cell_type": "code",
   "execution_count": 26,
   "metadata": {
    "collapsed": true
   },
   "outputs": [],
   "source": [
    "import itertools"
   ]
  },
  {
   "cell_type": "code",
   "execution_count": 32,
   "metadata": {
    "collapsed": false
   },
   "outputs": [
    {
     "name": "stdout",
     "output_type": "stream",
     "text": [
      "('a', 'a')\n",
      "('a', 'b')\n",
      "('b', 'a')\n",
      "('b', 'b')\n"
     ]
    }
   ],
   "source": [
    "a = ['a', 'b']\n",
    "zip(a,a)\n",
    "for t in itertools.product(a, repeat=2):\n",
    "    print(t)"
   ]
  },
  {
   "cell_type": "code",
   "execution_count": 35,
   "metadata": {
    "collapsed": true
   },
   "outputs": [],
   "source": [
    "a = ['a', 'b', 'c']\n"
   ]
  },
  {
   "cell_type": "code",
   "execution_count": null,
   "metadata": {
    "collapsed": true
   },
   "outputs": [],
   "source": []
  }
 ],
 "metadata": {
  "kernelspec": {
   "display_name": "Python 3",
   "language": "python",
   "name": "python3"
  },
  "language_info": {
   "codemirror_mode": {
    "name": "ipython",
    "version": 3
   },
   "file_extension": ".py",
   "mimetype": "text/x-python",
   "name": "python",
   "nbconvert_exporter": "python",
   "pygments_lexer": "ipython3",
   "version": "3.5.1"
  }
 },
 "nbformat": 4,
 "nbformat_minor": 0
}
